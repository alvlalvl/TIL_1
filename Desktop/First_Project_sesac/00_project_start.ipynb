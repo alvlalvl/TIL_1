{
 "cells": [
  {
   "cell_type": "markdown",
   "id": "e486fef3",
   "metadata": {},
   "source": [
    "# 시각화 프로젝트(미니)"
   ]
  },
  {
   "cell_type": "markdown",
   "id": "5b18e5fd",
   "metadata": {},
   "source": [
    "## 프로젝트 수행 절차\n",
    "#### 1) 주제선정\n",
    "#### 2) 웹소설 플랫폼 선정\n",
    "#### 3) 데이터 수집\n",
    "#### 4) 데이터 전처리\n",
    "#### 5) 데이터 분석\n",
    "#### 6) 결론"
   ]
  },
  {
   "cell_type": "markdown",
   "id": "5764a820",
   "metadata": {},
   "source": [
    "## 1. 주제\n",
    "#### -웹소설 플랫폼 인기순위 분석을 통한 웹소설 최신 트랜드 파악"
   ]
  },
  {
   "cell_type": "markdown",
   "id": "66bcd095",
   "metadata": {
    "ExecuteTime": {
     "end_time": "2023-11-08T11:42:41.341011Z",
     "start_time": "2023-11-08T11:42:41.335501Z"
    }
   },
   "source": [
    "## 2. 웹소설 플랫폼 선정\n",
    "#### -카카오페이지\n",
    "#### -선정 방식 : 대중화된 웹소설 플랫폼 중 임의 선택"
   ]
  },
  {
   "cell_type": "markdown",
   "id": "3a32fc3d",
   "metadata": {},
   "source": [
    "## 3. 데이터 수집\n",
    "####  1) 수집방법 : 크롤링\n",
    "####  2) 수집내용\n",
    "#####   ㄱ) 실시간 랭킹 100위\n",
    "#####   ㄴ) 1시간 단위로 데이터 수집\n",
    "#####   ㄷ) 실시간 랭킹 100위\n",
    "######     - 랭킹반영시간\n",
    "######     - 순위\n",
    "######     - 제목\n",
    "######     - 작가\n",
    "######     - 별점\n",
    "######     - 전체회차수\n",
    "######     - 장르\n",
    "######     - 연령등급\n",
    "######     - 줄거리\n",
    "######     - 조회수\n",
    "######     - 댓글수\n",
    "######     - 키워드\n",
    "######     - 연재개시일"
   ]
  },
  {
   "cell_type": "markdown",
   "id": "e4a21ddc",
   "metadata": {},
   "source": [
    "##  4. 데이터 전처리 및 분석(시각화)\n",
    "#### 4-1. 데이터 전처리\n",
    "#### 4-2. 시간에 따라 변화하는 선호 장르\n",
    "#### 4-3. 인기랭킹과 요소들의 관계\n",
    "#### 4-4. Top 100에서 가장 많이 나오는 단어"
   ]
  }
 ],
 "metadata": {
  "kernelspec": {
   "display_name": "Python 3 (ipykernel)",
   "language": "python",
   "name": "python3"
  },
  "language_info": {
   "codemirror_mode": {
    "name": "ipython",
    "version": 3
   },
   "file_extension": ".py",
   "mimetype": "text/x-python",
   "name": "python",
   "nbconvert_exporter": "python",
   "pygments_lexer": "ipython3",
   "version": "3.11.4"
  },
  "varInspector": {
   "cols": {
    "lenName": 16,
    "lenType": 16,
    "lenVar": 40
   },
   "kernels_config": {
    "python": {
     "delete_cmd_postfix": "",
     "delete_cmd_prefix": "del ",
     "library": "var_list.py",
     "varRefreshCmd": "print(var_dic_list())"
    },
    "r": {
     "delete_cmd_postfix": ") ",
     "delete_cmd_prefix": "rm(",
     "library": "var_list.r",
     "varRefreshCmd": "cat(var_dic_list()) "
    }
   },
   "types_to_exclude": [
    "module",
    "function",
    "builtin_function_or_method",
    "instance",
    "_Feature"
   ],
   "window_display": false
  }
 },
 "nbformat": 4,
 "nbformat_minor": 5
}
