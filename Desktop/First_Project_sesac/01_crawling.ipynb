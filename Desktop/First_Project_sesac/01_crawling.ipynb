{
 "cells": [
  {
   "cell_type": "markdown",
   "id": "922693de",
   "metadata": {},
   "source": [
    "## 3. 데이터 수집 단계\n",
    "#### 수집 할 내용\n",
    "#####   ㄱ) 실시간 랭킹 100위\n",
    "#####   ㄴ) 1시간 단위로 데이터 수집\n",
    "#####   ㄷ) 실시간 랭킹 100위\n",
    "######  - 랭킹반영시간, 순위, 제목, 작가, 별점, 전체회차수, 장르, 연령등급, 줄거리, 조회수, 댓글수, 키워드, 연재개시일"
   ]
  },
  {
   "cell_type": "markdown",
   "id": "532b0f0a",
   "metadata": {},
   "source": [
    "#### ※19세 이용가 데이터 있으므로 로그인 및 성인인증 필요"
   ]
  },
  {
   "cell_type": "markdown",
   "id": "a3f65e32",
   "metadata": {},
   "source": [
    "# crawling 변수\n",
    "\n",
    "## click\n",
    "#### login_btn__click : 로그인버튼클릭\n",
    "#### web_novel_click : 웹소설 클릭\n",
    "####  novel_click :작품 클릭\n",
    "####  novel_info : 정보 클릭  \n",
    "####  login : 로그인  \n",
    "####  go : 로그인 계속하기   \n",
    "####  cupon : 대여권증정 확인클릭\n",
    "\n",
    "## 기타\n",
    "####  ranking_time : 랭킹반영시간 ex : '23.09.27 13:00 기준' \n",
    "#### input_id : 아이디창\n",
    "#### input_pw :패스워드창\n",
    "\n",
    "## columns\n",
    "#### ranking : 순위 정보\n",
    "#### name : 제목 \n",
    "#### writer : 작가\n",
    "#### view :조회수\n",
    "#### star : 별점\n",
    "#### comment : 댓글 수\n",
    "#### total :전체 회차\n",
    "#### start : 연재개시일\n",
    "#### genre : 분류, 장르\n",
    "#### age_graded : 연령등급\n",
    "#### story :줄거리\n",
    "#### keyword :키워드\n"
   ]
  },
  {
   "cell_type": "code",
   "execution_count": 1,
   "id": "c15fbe47",
   "metadata": {
    "ExecuteTime": {
     "end_time": "2023-11-08T12:25:31.742983Z",
     "start_time": "2023-11-08T12:25:28.868445Z"
    }
   },
   "outputs": [],
   "source": [
    "from selenium import webdriver\n",
    "import time\n",
    "from bs4 import BeautifulSoup\n",
    "import pandas as pd\n",
    "import re"
   ]
  },
  {
   "cell_type": "code",
   "execution_count": 2,
   "id": "52a9a03f",
   "metadata": {
    "ExecuteTime": {
     "end_time": "2023-11-08T12:25:47.568045Z",
     "start_time": "2023-11-08T12:25:31.762827Z"
    }
   },
   "outputs": [],
   "source": [
    "driver=webdriver.Chrome()\n",
    "driver.get(\"https://page.kakao.com/\")\n",
    "time.sleep(3)\n",
    "\n",
    "login_btn_click=driver.find_elements(\"css selector\", \"#__next > div > \\\n",
    "div.sticky.inset-x-0.top-0.left-0.z-100.flex.w-full.flex-col.items-center.justify-center.bg-bg-a-10 > \\\n",
    "div > div.flex.h-pc_header_height_px.w-1200pxr.items-center.px-30pxr > \\\n",
    "div.mr-16pxr.flex.shrink-0.items-center.justify-end.space-x-24pxr > button.pr-16pxr\")[0]\n",
    "\n",
    "login_btn_click.click()\n",
    "time.sleep(3)  #로그인클릭"
   ]
  },
  {
   "cell_type": "code",
   "execution_count": 3,
   "id": "59d05090",
   "metadata": {
    "ExecuteTime": {
     "end_time": "2023-11-08T12:26:12.088402Z",
     "start_time": "2023-11-08T12:25:51.546778Z"
    }
   },
   "outputs": [],
   "source": [
    "input_id=driver.find_elements(\"css selector\",\"#loginId--1\")[0]#i\n",
    "input_pw=driver.find_elements(\"css selector\", \"#password--2\")[0]\n",
    "\n",
    "input_id.send_keys(\"  ID 입력  \")   #ID 입력\n",
    "input_pw.send_keys(\"  PW 입력  \") #PW 입력\n",
    "\n",
    "login=driver.find_elements(\"css selector\", \"#mainContent > div > div > form > div.confirm_btn > \\\n",
    "button.btn_g.highlight.submit\")[0]\n",
    "login.click()  #로그인\n",
    "time.sleep(20)  #로그인 인증 해야되니 길게 잡기!"
   ]
  },
  {
   "cell_type": "code",
   "execution_count": 19,
   "id": "8f57d503",
   "metadata": {},
   "outputs": [],
   "source": [
    "go=driver.find_elements(\"css selector\", \"#mArticle > div > div.wrap_btn > form > button\")[0]\n",
    "go.click()  #계속하기\n",
    "time.sleep(5)"
   ]
  },
  {
   "cell_type": "code",
   "execution_count": 20,
   "id": "6f62ee3b",
   "metadata": {},
   "outputs": [],
   "source": [
    "web_novel_click=driver.find_elements(\"css selector\", \"#__next > div > div.sticky.inset-x-0.top-0. \\\n",
    "left-0.z-100.flex.w-full.flex-col.items-center.justify-center.bg-bg-a-10 > div >  \\\n",
    "div.flex.h-pc_header_height_px.w-1200pxr.items-center.px-30pxr >  \\\n",
    "div.ml-42pxr.flex-1.items-center.space-x-32pxr > a:nth-child(3)\")[0]\n",
    "\n",
    "web_novel_click.click()\n",
    "time.sleep(5)  #웹소설 탭 클릭\n",
    "\n",
    "Real_time_ranking=driver.find_elements(\"css selector\", \"#tab-depth-2 > div > div > \\\n",
    "ul > li:nth-child(3) > a\")[0]\n",
    "\n",
    "Real_time_ranking.click()\n",
    "time.sleep(7) #실시간랭킹 클릭"
   ]
  },
  {
   "cell_type": "code",
   "execution_count": 31,
   "id": "dadf265e",
   "metadata": {},
   "outputs": [],
   "source": [
    "def data_crawling() :\n",
    "    driver.refresh()  #시간대가 변경으로 새로고침 후 진행해야함\n",
    "    time.sleep(15)\n",
    "    \n",
    "    kakao_top1_100=[]\n",
    "\n",
    "    for i in range(1,101) : #1~70 / 71~100 나누어서 진행\n",
    "        if i>50 :  # i가 50이 넘으면 스크롤을 내리고 10초 대기\n",
    "            driver.execute_script(\"window.scrollTo(0,document.body.scrollHeight);\")  \n",
    "            time.sleep(10) #i가 50이 넘으면 스크롤을 내리고 10초 대기한다.\n",
    "\n",
    "\n",
    "        html=driver.page_source\n",
    "        soup=BeautifulSoup(html, 'html.parser') #페이지소스 가져오기 \n",
    "        \n",
    "        ranking=soup.select(\n",
    "            f\"div > div:nth-child({i}) > div > a > div > div.jsx-2079337112.h-76pxr. \\\n",
    "            w-full.space-y-4pxr.pt-8pxr.pr-8pxr.pb-4pxr > div.under-320-view\\:w-56pxr. \\\n",
    "            flex.w-68pxr.rounded-\\[5px\\].px-4pxr.bg-el-20 > div.font-small2-bold.flex-1. \\\n",
    "            text-el-60\")[0].text\n",
    "            #ranking : 순위 정보\n",
    "            \n",
    "        ranking_time=soup.select(\"#__next > div > div.flex.w-full.grow.flex-col.px-122pxr > \\\n",
    "            div > div.flex.grow.flex-col > div:nth-child(3) > div > div.bg-bg-a-10 > div > \\\n",
    "            div > span\")[0].text\n",
    "            # ranking_time : 기준시간  \n",
    "            # 기준시간은 매일 새롭게 직접 업데이트해야함\n",
    "\n",
    "        try :  \n",
    "\n",
    "            novel_click=driver.find_elements(\"css selector\", f\"div > div:nth-child({i}) > \\\n",
    "            div > a > div > div.jsx-2079337112.relative\")[0]\n",
    "            \n",
    "            novel_click.click() #순차적으로 작품 클릭\n",
    "            time.sleep(3)\n",
    "\n",
    "            driver.refresh()    #대여권이 리셋을 위해 새로고침\n",
    "            time.sleep(6)\n",
    "\n",
    "            html=driver.page_source  #페이지소스 가져오기\n",
    "            soup=BeautifulSoup(html, 'html.parser') \n",
    "\n",
    "            name=soup.select(\" a > div > span.font-large2-bold.mb-3pxr.text-ellipsis. \\\n",
    "            break-all.text-el-70.line-clamp-2\")[0].text\n",
    "                # name : 제목 \n",
    "\n",
    "            writer=soup.select(\" a > div > span.font-small2.mb-6pxr.text-ellipsis. \\\n",
    "            text-left.text-el-70.opacity-70.break-word-anywhere.line-clamp-2\")[0].text\n",
    "                # writer : 작가    \n",
    "            \n",
    "            view=soup.select(\"a > div > div.flex.h-16pxr.items-center.justify-center. \\\n",
    "            all-child\\:font-small2.\\[\\&\\>\\*\\:not\\(\\:last-child\\)\\]\\:mr-10pxr > \\\n",
    "            div:nth-child(2) > span\")[0].text    \n",
    "                # view :조회수   \n",
    "                \n",
    "            star=soup.select(\"a > div > div.flex.h-16pxr.items-center.justify-center. \\\n",
    "            all-child\\:font-small2.\\[\\&\\>\\*\\:not\\(\\:last-child\\)\\]\\:mr-10pxr > \\\n",
    "            div:nth-child(3) > span\")[0].text\n",
    "               # star : 별점    \n",
    "                \n",
    "            comment=soup.select(\"div.flex-1.flex.flex-col > div.mt-4pxr.flex.min-h-200pxr. \\\n",
    "            flex-1.flex-col.overflow-hidden.rounded-12pxr.bg-bg-a-20 > div > div.flex. \\\n",
    "            h-44pxr.w-full.flex-row.items-center.justify-between.px-18pxr.bg-bg-a-20 > \\\n",
    "            div.flex.h-full.flex-1.items-center.space-x-8pxr > span\")[0].text[3:]\n",
    "               # comment : 댓글 수       \n",
    "                \n",
    "            total=soup.select(\"div.flex-1.flex.flex-col > div.rounded-b-12pxr.bg-bg-a-20 > \\\n",
    "            div.flex.h-44pxr.w-full.flex-row.items-center.justify-between.bg-bg-a-20.px-18pxr > \\\n",
    "            div.flex.h-full.flex-1.items-center.space-x-8pxr > span\")[0].text[3:]\n",
    "                #total :전체 회차    \n",
    "                \n",
    "            start=soup.select(\"div > div.flex.flex-col.pr-14pxr > div.text-ellipsis. \\\n",
    "            line-clamp-1.font-x-small1.h-16pxr.text-el-50 > span\")[0].text\n",
    "                #start : 연재개시일\n",
    "\n",
    "\n",
    "            novel_info=driver.find_elements(\"css selector\", \"#__next > div > \\\n",
    "            div.flex.w-full.grow.flex-col.px-122pxr > div.flex.h-full.flex-1 > \\\n",
    "            div.mb-28pxr.ml-4px.flex.w-632pxr.flex-col.overflow-hidden.rounded-12pxr > \\\n",
    "            div.relative.flex.w-full.flex-col.my-0.bg-bg-a-20.px-15pxr.pt-28pxr.pb-12pxr > \\\n",
    "            div > div > div:nth-child(2) > a\")[0]\n",
    "            \n",
    "            novel_info.click() # novel_info : 정보탭 클릭  \n",
    "            time.sleep(8)   \n",
    "\n",
    "\n",
    "            html=driver.page_source\n",
    "            soup=BeautifulSoup(html, 'html.parser') #페이지소스 가져오기\n",
    "\n",
    "            genre=soup.select(\"div > div:nth-child(2) > div > span:nth-child(3)\")[0].text\n",
    "                # genre : 분류, 장르\n",
    "                \n",
    "            age_graded=soup.select(\"div > div:nth-child(4) > span.text-el-70. \\\n",
    "            break-word-anywhere\")[0].text\n",
    "                # age_graded : 연령등급\n",
    "                \n",
    "            story=soup.select(\"div > div.relative.w-full.overflow-hidden.max-h-\\[144px\\] > \\\n",
    "            span\")[0].text\n",
    "                # story :줄거리 / 나중에 데이터 만들고 \\n\\n 수정할지 결정하기\n",
    "                \n",
    "            keyword=soup.select(\"div:nth-child(3) > div.flex.w-full.flex-col.items-center.\\\n",
    "            overflow-hidden > div\")[0].text\n",
    "                # keyword :키워드    \n",
    "\n",
    "    #         driver.back()          #뒤로가기 2번 or 입력한 주소 실행 1번...이 에러가 적음\n",
    "    #         driver.back()\n",
    "            driver.get(\"https://page.kakao.com/menu/10011/screen/94\")\n",
    "            time.sleep(15)   #잘 실행되는지 확인\n",
    "\n",
    "\n",
    "        except IndexError as e :       #키워드가 없어서 에러나면 \n",
    "            keyword=\"NaN\"               #키워드는 \"NaN\"\n",
    "    #         driver.back()             #뒤로가기 2번 or 입력한 주소 실행 1번...이 에러가 적음\n",
    "    #         driver.back()\n",
    "            driver.get(\"https://page.kakao.com/menu/10011/screen/94\")\n",
    "            time.sleep(15)   #잘 실행되는지 확인용\n",
    "\n",
    "\n",
    "        kakao_top1_100.append([ranking_time,ranking,name,writer,view,star,comment,total,start,genre,age_graded,story,keyword])            \n",
    "        #리스트에 담고            \n",
    "            \n",
    "    kakao_df=pd.DataFrame(data=kakao_top1_100, index=range(1,101), columns=['기준시간','순위','제목','작가','조회수','별점','댓글수','전체회차수','연재개시일','장르','연령등급','줄거리','키워드'])\n",
    "    #데이터프레임 만들고                 \n",
    "        \n",
    "    file_name=ranking_time[:-6]+\" 시_kakao_top1_100.xlsx\"    \n",
    "     #파일명 현지시간+순위\n",
    "        \n",
    "    kakao_df.to_excel(file_name, index=False)         \n",
    "    #데이터프레임을 엑셀로 저장(파일명, 인덱스없음)"
   ]
  },
  {
   "cell_type": "markdown",
   "id": "b9ec09ac",
   "metadata": {},
   "source": [
    "※ 1시간마다 반복 실행하도록 자동화 코드 짰지만, \n",
    "jupyter notebook에서 무한반복되는 이슈로 \n",
    "시간 별 time.sleep으로 진행※"
   ]
  },
  {
   "cell_type": "code",
   "execution_count": null,
   "id": "609a3d3f",
   "metadata": {},
   "outputs": [],
   "source": [
    "data_crawling() #00:20"
   ]
  },
  {
   "cell_type": "code",
   "execution_count": 21,
   "id": "fb0422d7",
   "metadata": {},
   "outputs": [],
   "source": [
    "time.sleep(2220) #01:20\n",
    "data_crawling()"
   ]
  },
  {
   "cell_type": "code",
   "execution_count": null,
   "id": "3e07156d",
   "metadata": {},
   "outputs": [],
   "source": [
    "time.sleep(2220) #02:20\n",
    "data_crawling()"
   ]
  },
  {
   "cell_type": "code",
   "execution_count": null,
   "id": "d3ebeedf",
   "metadata": {},
   "outputs": [],
   "source": [
    "time.sleep(2220) #03:20\n",
    "data_crawling()"
   ]
  },
  {
   "cell_type": "code",
   "execution_count": null,
   "id": "f058f9de",
   "metadata": {},
   "outputs": [],
   "source": [
    "time.sleep(2220) #04:20\n",
    "data_crawling()"
   ]
  },
  {
   "cell_type": "code",
   "execution_count": null,
   "id": "fd2ac8b4",
   "metadata": {},
   "outputs": [],
   "source": [
    "time.sleep(2220) #05:20\n",
    "data_crawling()"
   ]
  },
  {
   "cell_type": "code",
   "execution_count": null,
   "id": "d32d9d49",
   "metadata": {},
   "outputs": [],
   "source": [
    "time.sleep(2220) #06:20\n",
    "data_crawling()"
   ]
  },
  {
   "cell_type": "code",
   "execution_count": null,
   "id": "6ffcdc0d",
   "metadata": {},
   "outputs": [],
   "source": [
    "time.sleep(2220) #07:20\n",
    "data_crawling()"
   ]
  },
  {
   "cell_type": "code",
   "execution_count": null,
   "id": "2e88a0ce",
   "metadata": {},
   "outputs": [],
   "source": [
    "time.sleep(2220) #08:20\n",
    "data_crawling()"
   ]
  },
  {
   "cell_type": "code",
   "execution_count": null,
   "id": "05fcee8b",
   "metadata": {},
   "outputs": [],
   "source": [
    "time.sleep(2220) #09:20\n",
    "data_crawling()"
   ]
  },
  {
   "cell_type": "code",
   "execution_count": null,
   "id": "f9ee20af",
   "metadata": {},
   "outputs": [],
   "source": [
    "time.sleep(2220) #10:20    top71~100 error로 데이터 수집 못함\n",
    "data_crawling()"
   ]
  },
  {
   "cell_type": "code",
   "execution_count": null,
   "id": "270db8f4",
   "metadata": {},
   "outputs": [],
   "source": [
    "data_crawling()  #11:20  "
   ]
  },
  {
   "cell_type": "code",
   "execution_count": null,
   "id": "9e7f4e1d",
   "metadata": {},
   "outputs": [],
   "source": [
    "time.sleep(2220) #12:20\n",
    "data_crawling()"
   ]
  },
  {
   "cell_type": "code",
   "execution_count": null,
   "id": "35eb2ae2",
   "metadata": {},
   "outputs": [],
   "source": [
    "time.sleep(2220) #13:20\n",
    "data_crawling()"
   ]
  },
  {
   "cell_type": "code",
   "execution_count": null,
   "id": "3de828a0",
   "metadata": {},
   "outputs": [],
   "source": [
    "time.sleep(2220) #14:20\n",
    "data_crawling()"
   ]
  },
  {
   "cell_type": "code",
   "execution_count": null,
   "id": "1cb8fad7",
   "metadata": {},
   "outputs": [],
   "source": [
    "time.sleep(2220) #15:20\n",
    "data_crawling()"
   ]
  },
  {
   "cell_type": "code",
   "execution_count": null,
   "id": "81e043fd",
   "metadata": {},
   "outputs": [],
   "source": [
    "time.sleep(2220) #16:20\n",
    "data_crawling()"
   ]
  },
  {
   "cell_type": "code",
   "execution_count": null,
   "id": "9113f448",
   "metadata": {},
   "outputs": [],
   "source": [
    "time.sleep(2220) #17:20\n",
    "data_crawling()"
   ]
  },
  {
   "cell_type": "code",
   "execution_count": null,
   "id": "70bc6152",
   "metadata": {},
   "outputs": [],
   "source": [
    "time.sleep(2220) #18:20\n",
    "data_crawling()"
   ]
  },
  {
   "cell_type": "code",
   "execution_count": null,
   "id": "4cf52148",
   "metadata": {},
   "outputs": [],
   "source": [
    "time.sleep(2220) #19:20\n",
    "data_crawling()"
   ]
  },
  {
   "cell_type": "code",
   "execution_count": null,
   "id": "e3176435",
   "metadata": {},
   "outputs": [],
   "source": [
    "time.sleep(2220) #20:20\n",
    "data_crawling()"
   ]
  },
  {
   "cell_type": "code",
   "execution_count": null,
   "id": "3440a166",
   "metadata": {},
   "outputs": [],
   "source": [
    "time.sleep(2220) #21:20\n",
    "data_crawling()"
   ]
  },
  {
   "cell_type": "code",
   "execution_count": null,
   "id": "ad5df7e0",
   "metadata": {},
   "outputs": [],
   "source": [
    "time.sleep(2220) #22:20\n",
    "data_crawling()"
   ]
  },
  {
   "cell_type": "code",
   "execution_count": null,
   "id": "9f373de8",
   "metadata": {},
   "outputs": [],
   "source": [
    "time.sleep(2220) #23:20\n",
    "data_crawling()"
   ]
  },
  {
   "cell_type": "code",
   "execution_count": null,
   "id": "1c8aee38",
   "metadata": {},
   "outputs": [],
   "source": [
    "time.sleep(2220) #24:20\n",
    "data_crawling()"
   ]
  }
 ],
 "metadata": {
  "kernelspec": {
   "display_name": "Python 3 (ipykernel)",
   "language": "python",
   "name": "python3"
  },
  "language_info": {
   "codemirror_mode": {
    "name": "ipython",
    "version": 3
   },
   "file_extension": ".py",
   "mimetype": "text/x-python",
   "name": "python",
   "nbconvert_exporter": "python",
   "pygments_lexer": "ipython3",
   "version": "3.11.4"
  },
  "varInspector": {
   "cols": {
    "lenName": 16,
    "lenType": 16,
    "lenVar": 40
   },
   "kernels_config": {
    "python": {
     "delete_cmd_postfix": "",
     "delete_cmd_prefix": "del ",
     "library": "var_list.py",
     "varRefreshCmd": "print(var_dic_list())"
    },
    "r": {
     "delete_cmd_postfix": ") ",
     "delete_cmd_prefix": "rm(",
     "library": "var_list.r",
     "varRefreshCmd": "cat(var_dic_list()) "
    }
   },
   "types_to_exclude": [
    "module",
    "function",
    "builtin_function_or_method",
    "instance",
    "_Feature"
   ],
   "window_display": false
  }
 },
 "nbformat": 4,
 "nbformat_minor": 5
}
